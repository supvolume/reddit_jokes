{
 "cells": [
  {
   "cell_type": "markdown",
   "id": "hollow-adoption",
   "metadata": {},
   "source": [
    "# Get category of a word with WordNet in the NLTK package\n",
    "\n",
    "WordNet is a copus reader in the NLTK package. Though the main usage of this method is to find similarity between words and find synonyms, it can help to find a general group of noun and verb because it categorises them into a general group. The examples of the group are noun that is animal, noun that is food, verb about feeling, etc. More group can be found at https://wordnet.princeton.edu/documentation/lexnames5wn.\n",
    "\n",
    "For declaration, I use Python 3.7.3. "
   ]
  },
  {
   "cell_type": "code",
   "execution_count": 1,
   "id": "durable-minister",
   "metadata": {},
   "outputs": [],
   "source": [
    "# Import\n",
    "from nltk.corpus import wordnet as wn"
   ]
  },
  {
   "cell_type": "markdown",
   "id": "studied-contemporary",
   "metadata": {},
   "source": [
    "Word can be found in WordNet by using `synsets`."
   ]
  },
  {
   "cell_type": "code",
   "execution_count": 2,
   "id": "municipal-circle",
   "metadata": {},
   "outputs": [
    {
     "data": {
      "text/plain": [
       "[Synset('military_officer.n.01'),\n",
       " Synset('officeholder.n.01'),\n",
       " Synset('policeman.n.01'),\n",
       " Synset('officer.n.04'),\n",
       " Synset('officer.v.01')]"
      ]
     },
     "execution_count": 2,
     "metadata": {},
     "output_type": "execute_result"
    }
   ],
   "source": [
    "word_set = wn.synsets(\"officer\")\n",
    "word_set"
   ]
  },
  {
   "cell_type": "markdown",
   "id": "turned-implementation",
   "metadata": {},
   "source": [
    "The definition and group of each word from synsets can be obtained as follow."
   ]
  },
  {
   "cell_type": "code",
   "execution_count": 3,
   "id": "formed-interval",
   "metadata": {},
   "outputs": [
    {
     "name": "stdout",
     "output_type": "stream",
     "text": [
      "Name: military_officer.n.01\n",
      "Definition: any person in the armed services who holds a position of authority or command\n",
      "Group: noun.person\n",
      "\n",
      "Name: officeholder.n.01\n",
      "Definition: someone who is appointed or elected to an office and who holds a position of trust\n",
      "Group: noun.person\n",
      "\n",
      "Name: policeman.n.01\n",
      "Definition: a member of a police force\n",
      "Group: noun.person\n",
      "\n",
      "Name: officer.n.04\n",
      "Definition: a person authorized to serve in a position of authority on a vessel\n",
      "Group: noun.person\n",
      "\n",
      "Name: officer.v.01\n",
      "Definition: direct or command as an officer\n",
      "Group: verb.communication\n",
      "\n"
     ]
    }
   ],
   "source": [
    "# Get name, definition and group\n",
    "for i in word_set:\n",
    "    print(\"Name: \" + i.name() + \"\\n\" \n",
    "          + \"Definition: \" + i.definition() + \"\\n\"\n",
    "          + \"Group: \" + i.lexname() + \"\\n\")"
   ]
  },
  {
   "cell_type": "markdown",
   "id": "developed-documentary",
   "metadata": {},
   "source": [
    "Be careful that some of the words might be a specific noun, such as the word teach that look like it is a verb, but it could be a noun (as the name of the pirate [Teach](https://en.wikipedia.org/wiki/Blackbeard))."
   ]
  },
  {
   "cell_type": "code",
   "execution_count": 4,
   "id": "ultimate-black",
   "metadata": {},
   "outputs": [
    {
     "name": "stdout",
     "output_type": "stream",
     "text": [
      "noun.person\n",
      "verb.communication\n",
      "verb.change\n"
     ]
    }
   ],
   "source": [
    "word_set2 = wn.synsets(\"teach\")\n",
    "for i in word_set2:\n",
    "    print(i.lexname())"
   ]
  },
  {
   "cell_type": "code",
   "execution_count": 5,
   "id": "promotional-success",
   "metadata": {},
   "outputs": [
    {
     "data": {
      "text/plain": [
       "'an English pirate who operated in the Caribbean and off the Atlantic coast of North America (died in 1718)'"
      ]
     },
     "execution_count": 5,
     "metadata": {},
     "output_type": "execute_result"
    }
   ],
   "source": [
    "word_set2[0].definition()"
   ]
  },
  {
   "cell_type": "markdown",
   "id": "cellular-landing",
   "metadata": {},
   "source": [
    "# References\n",
    "\n",
    "https://wordnet.princeton.edu/documentation/lexnames5wn\n",
    "\n",
    "https://wordnet.princeton.edu/documentation/wninput5wn\n",
    "\n",
    "https://www.nltk.org/howto/wordnet.html\n",
    "\n",
    "https://pythonprogramming.net/wordnet-nltk-tutorial/\n",
    "\n",
    "https://www.titanwolf.org/Network/q/5e8d94e2-8dd0-49e3-9aa1-941b8677beda/y\n",
    "\n",
    "https://stackoverflow.com/a/24630887"
   ]
  }
 ],
 "metadata": {
  "kernelspec": {
   "display_name": "Python 3",
   "language": "python",
   "name": "python3"
  },
  "language_info": {
   "codemirror_mode": {
    "name": "ipython",
    "version": 3
   },
   "file_extension": ".py",
   "mimetype": "text/x-python",
   "name": "python",
   "nbconvert_exporter": "python",
   "pygments_lexer": "ipython3",
   "version": "3.7.3"
  }
 },
 "nbformat": 4,
 "nbformat_minor": 5
}
